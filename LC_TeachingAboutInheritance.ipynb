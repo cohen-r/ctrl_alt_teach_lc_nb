{
 "cells": [
  {
   "cell_type": "markdown",
   "id": "80c0f832",
   "metadata": {},
   "source": [
    "# Welcome to my jupyter notebook! \n",
    "### Made by Rachel Cohen, 10/11/2024"
   ]
  },
  {
   "cell_type": "markdown",
   "id": "457c6edf",
   "metadata": {},
   "source": [
    "I've created this notebook and shared it using a cloud-based platform called Binder. This notebook is completely self-contained, so you won't need any special softwares on your computer to run the code."
   ]
  },
  {
   "cell_type": "markdown",
   "id": "54032272",
   "metadata": {},
   "source": [
    "### Part 1: Learning how to use the notebook"
   ]
  },
  {
   "cell_type": "markdown",
   "id": "9260f19c",
   "metadata": {},
   "source": [
    "Jupyter notebooks are super easy to use, even for peope unfamiliar with coding. Normally, students in my field will enter class with some level of coding experience. For the purposes of this exercise, I will assume that everyone here has *no coding experience*, but I know that some of you out there are better than me! \n",
    "\n",
    "The objectives of this notebook are:\n",
    "1) To demonstrate the utility of this specific technology (jupyter notebooks/python coding) in a classroom setting\n",
    "2) To show how this technology might be used in a more intructional setting\n",
    "3) Give an example of \"nontraditional classroom tech\" and show how it might be incorporated into a lesson"
   ]
  },
  {
   "cell_type": "markdown",
   "id": "b4ed3441",
   "metadata": {},
   "source": [
    "Below is your first \"code cell\". In it, we define \"x\" as equal to 3. Then, we add 2 to x. Click your cursor into the cell and hit \"cmd+enter\" on mac or \"ctrl+enter\" on windows to prove to yourself that our notebook will correctly calculate that x+2=5!"
   ]
  },
  {
   "cell_type": "code",
   "execution_count": 1,
   "id": "257e85e0",
   "metadata": {},
   "outputs": [
    {
     "data": {
      "text/plain": [
       "5"
      ]
     },
     "execution_count": 1,
     "metadata": {},
     "output_type": "execute_result"
    }
   ],
   "source": [
    "#define x\n",
    "x=3\n",
    "\n",
    "#add 2 to x\n",
    "x+2"
   ]
  },
  {
   "cell_type": "markdown",
   "id": "6f983952",
   "metadata": {},
   "source": [
    "### Part 2: make punnett squares"
   ]
  },
  {
   "cell_type": "markdown",
   "id": "8fd15b7a",
   "metadata": {},
   "source": [
    "Great! Now you've gotten a (super speedy) intro to jupyter notebooks. Now I'm going to show you how this might be used to teach a concept that's important in evolutionary biology: punnett squares! I hope to prove to you 1) how this might be useful in the classroom and 2) how this type of exercise builds in concepts in active learning"
   ]
  },
  {
   "cell_type": "markdown",
   "id": "a6109c7c",
   "metadata": {},
   "source": [
    "Student learning objectives:\n",
    "1) Students will understand the concept of punnett squares and simple dominant/recessive inheritance.\n",
    "2) Students will understand how to use punnett squares to calculate offspring genotype frequencies.\n",
    "3) Students will see how coding can be used to investigate problems in evolutionary biology."
   ]
  },
  {
   "cell_type": "markdown",
   "id": "6770048a",
   "metadata": {},
   "source": [
    "We are going to start by importing the python libraries that we need to complete our task. Click into the cell below and run it (cmd+enter or ctrl+enter). You'll know it ran if a number appears in the brackets to the left of the cell. Ex: it goes from In [ ]: to In [2]:"
   ]
  },
  {
   "cell_type": "code",
   "execution_count": 2,
   "id": "d14ac4e7",
   "metadata": {},
   "outputs": [],
   "source": [
    "import matplotlib.pyplot as plt\n",
    "import numpy as np\n",
    "import itertools"
   ]
  },
  {
   "cell_type": "markdown",
   "id": "054b7ca7",
   "metadata": {},
   "source": [
    "Amazing! Next we're going to create some functions that will make our punnett squares for us. Again, you're going to click into the cell below this and run it. This code is functional and ready to go, you don't need to make any changes to it. For students brand new to coding, seeing the code without having to actually code themselves gives them exposure to coding. Hopefully when they see code in later classes this will make it less scary. For students who are familiar with coding, seeing the code can give them insight into how they may adapt skills they already have to solve a problem in evolutionary biology."
   ]
  },
  {
   "cell_type": "code",
   "execution_count": 4,
   "id": "f3235255",
   "metadata": {},
   "outputs": [],
   "source": [
    "# Function to generate offspring combinations\n",
    "def generate_offspring(parent1, parent2):\n",
    "    # Generate all possible combinations (cartesian product) of alleles\n",
    "    offspring = [[f\"{a1}{a2}\" for a2 in parent2] for a1 in parent1]\n",
    "    \n",
    "    # Sort the alleles in each genotype to make it consistent (e.g., 'Aa' instead of 'aA')\n",
    "    offspring = [[ ''.join(sorted(genotype)) for genotype in row ] for row in offspring]\n",
    "    \n",
    "    return offspring\n",
    "\n",
    "# Function to draw Punnett Square\n",
    "def draw_punnett_square(parent1, parent2):\n",
    "    # Ensure parents have exactly 2 alleles\n",
    "    if len(parent1) != 2 or len(parent2) != 2:\n",
    "        raise ValueError(\"Each parent must have exactly 2 alleles.\")\n",
    "\n",
    "    # Generate the offspring genotypes\n",
    "    offspring = generate_offspring(parent1, parent2)\n",
    "    \n",
    "    # Drawing the Punnett square\n",
    "    fig, ax = plt.subplots(figsize=(6, 6))\n",
    "\n",
    "    # Create grid for Punnett square\n",
    "    ax.set_xticks(np.arange(0, 3, 1))\n",
    "    ax.set_yticks(np.arange(0, 3, 1))\n",
    "    ax.grid(True, which='both')\n",
    "\n",
    "    # Set tick labels (parent alleles)\n",
    "    ax.set_xticklabels([''] + list(parent2), fontsize=14)\n",
    "    ax.set_yticklabels([''] + list(parent1), fontsize=14)\n",
    "\n",
    "    # Disable ticks (just want the labels)\n",
    "    ax.tick_params(left=False, bottom=False)\n",
    "\n",
    "    # Populate the Punnett square with offspring genotypes\n",
    "    for i in range(2):\n",
    "        for j in range(2):\n",
    "            ax.text(j + 0.5, i + 0.5, offspring[i][j], va='center', ha='center', fontsize=18)\n",
    "\n",
    "    # Set limits for grid\n",
    "    ax.set_xlim(0, 2)\n",
    "    ax.set_ylim(0, 2)\n",
    "\n",
    "    plt.show()"
   ]
  },
  {
   "cell_type": "markdown",
   "id": "ce0b5d1f",
   "metadata": {},
   "source": [
    "Ok, now we're ready to go! Ideally, students would have already been exposed to this concept in class (either in a previous lecture or through an asynchronous lecture if I decided to use the \"flipped classroom\" concept for this lesson), but I'll give a little refresher today for those of you that don't remember this from high school biology.\n",
    "\n",
    "We use punnett squares to understand ***inheritance***. Under this model of evolution, the organisms are ***diploid***, meaning they have two copies of every gene: one from each parent (called ***alleles***). When parents reproduce, they can pass on one copy of each gene to their offspring. The individual they are reproducing with contributes the other copy to the offspring. We represent gene copies with letters. Parent 1's gene copies could be either dominant (A) or recessive (a) and parent 2's gene copies could be either dominant (B) or recessive (b).\n",
    "\n",
    "Punnett squares are a useful tool for estimating what the ***genotypes*** of offspring will look like. A punnett square is a 4x4 grid. We write the genotype (what type of gene copies they have, represented in letters like Aa or AA) of parent 1 on the left of the square and the genotype of parent 2 on the bottom of the square. We then drag the letter over (left to right, bottom to top) to fill in the internal grid cells with all of the possible offspring genotypes this parental pair could give rise to. \n",
    "\n",
    "This is a bit confusing to describe just with words, but run the cell below to see what a punnett square looks like: "
   ]
  },
  {
   "cell_type": "code",
   "execution_count": 5,
   "id": "026b5bf8",
   "metadata": {},
   "outputs": [
    {
     "data": {
      "image/png": "[encoded data removed]",
      "text/plain": [
       "<Figure size 600x600 with 1 Axes>"
      ]
     },
     "metadata": {},
     "output_type": "display_data"
    }
   ],
   "source": [
    "# Example usage\n",
    "parent1 = ['A', 'A']  # First parent's alleles\n",
    "parent2 = ['B', 'B']  # Second parent's alleles\n",
    "\n",
    "# Draw Punnett square\n",
    "draw_punnett_square(parent1, parent2)"
   ]
  },
  {
   "cell_type": "markdown",
   "id": "1c2c7796",
   "metadata": {},
   "source": [
    "So now you see that when parent 1 has the \"AA\" genotype and parent 2 has the \"BB\" genotype all of the offspring will have the same genotype \"AB\". Cool! (sort of, this is super simple for demonstrative purposes)\n",
    "\n",
    "I've created another cell below where you can play around with the code to change the parental genotypes and see what offspring genotypes are predicted by the punnett square. Click into the cell below and play around with the parent genotypes. Change some to little a/little b. **The only thing you need to change is the capitalization of the letters in the parent 1 and parent 2 genotypes. Keep everything else exactly the same.** \n",
    "\n",
    "See if you can find out the expected offspring genotypes and their frequences when parent 1 is \"Aa\" and parent 2 is \"Bb\""
   ]
  },
  {
   "cell_type": "code",
   "execution_count": 7,
   "id": "c8dcfe7b",
   "metadata": {},
   "outputs": [
    {
     "data": {
      "image/png": "[encoded data removed]",
      "text/plain": [
       "<Figure size 600x600 with 1 Axes>"
      ]
     },
     "metadata": {},
     "output_type": "display_data"
    }
   ],
   "source": [
    "# change the genotypes below to see what the punnett square will look like\n",
    "parent1 = ['A', 'A']  # First parent's alleles\n",
    "parent2 = ['B', 'B']  # Second parent's alleles\n",
    "\n",
    "# Draw Punnett square\n",
    "draw_punnett_square(parent1, parent2)"
   ]
  },
  {
   "cell_type": "markdown",
   "id": "5a76e876",
   "metadata": {},
   "source": [
    "Because I'm just showing you how I might build a lesson around this technology, I won't ask you to fill anything in or give me an answer to any questions. \n",
    "\n",
    "If this were a real lesson, I would have questions built into this notebook that students would have to fill-in the answers to as well as points where they should discuss what they are doing with their neighbors. I would then have students download their notebooks and submit them to me on courseworks as an assignment."
   ]
  },
  {
   "cell_type": "markdown",
   "id": "2608bb4c",
   "metadata": {},
   "source": [
    "### That's it for this jupyter notebook! I hope I've shown you that this could be used to run a fun and interactive lesson!"
   ]
  }
 ],
 "metadata": {
  "kernelspec": {
   "display_name": "Python 3 (ipykernel)",
   "language": "python",
   "name": "python3"
  },
  "language_info": {
   "codemirror_mode": {
    "name": "ipython",
    "version": 3
   },
   "file_extension": ".py",
   "mimetype": "text/x-python",
   "name": "python",
   "nbconvert_exporter": "python",
   "pygments_lexer": "ipython3",
   "version": "3.9.16"
  }
 },
 "nbformat": 4,
 "nbformat_minor": 5
}
